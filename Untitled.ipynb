{
 "cells": [
  {
   "cell_type": "code",
   "execution_count": 6,
   "id": "4649d388",
   "metadata": {},
   "outputs": [],
   "source": [
    "import time"
   ]
  },
  {
   "cell_type": "code",
   "execution_count": 1,
   "id": "00af3858",
   "metadata": {},
   "outputs": [],
   "source": [
    "def open_files (file_path):\n",
    "    file = open(file_path, \"r\", encoding=\"utf8\")\n",
    "    file1 = file.read()\n",
    "    file.close()\n",
    "    return file1"
   ]
  },
  {
   "cell_type": "code",
   "execution_count": 2,
   "id": "729bc69d",
   "metadata": {},
   "outputs": [],
   "source": [
    "x= open_files(\"C:\\\\Users\\\\PAPA\\\\Desktop\\\\My_Files\\\\Career\\\\Dami_Udacity\\\\udacity\\\\udacity\\\\start.txt\")"
   ]
  },
  {
   "cell_type": "code",
   "execution_count": 3,
   "id": "dde35292",
   "metadata": {},
   "outputs": [
    {
     "data": {
      "text/plain": [
       "'You find yourself standing in an open field , filled with grass and yellow wildflowers.\\nRumor has it that a x##100 is somewhere around here, and has been terrifying the nearby village.\\nIn front of you is a house.\\nTo your right is a dark cave.\\\\nIn your hand you hold your trusty  (but not very effective) y##200.\\n'"
      ]
     },
     "execution_count": 3,
     "metadata": {},
     "output_type": "execute_result"
    }
   ],
   "source": [
    "x"
   ]
  },
  {
   "cell_type": "code",
   "execution_count": 5,
   "id": "0cf64454",
   "metadata": {},
   "outputs": [],
   "source": [
    "sents = x.split(\"\\n\")"
   ]
  },
  {
   "cell_type": "code",
   "execution_count": 10,
   "id": "ce321de3",
   "metadata": {},
   "outputs": [
    {
     "name": "stdout",
     "output_type": "stream",
     "text": [
      "You find yourself standing in an open field , filled with grass and yellow wildflowers.\n",
      "Rumor has it that a x##100 is somewhere around here, and has been terrifying the nearby village.\n",
      "In front of you is a house.\n",
      "To your right is a dark cave.\\nIn your hand you hold your trusty  (but not very effective) y##200.\n",
      "\n"
     ]
    }
   ],
   "source": [
    "for el in sents:\n",
    "    print(el)\n",
    "    time.sleep(2.0)"
   ]
  },
  {
   "cell_type": "code",
   "execution_count": null,
   "id": "79d61ff7",
   "metadata": {},
   "outputs": [],
   "source": []
  }
 ],
 "metadata": {
  "kernelspec": {
   "display_name": "Python 3 (ipykernel)",
   "language": "python",
   "name": "python3"
  },
  "language_info": {
   "codemirror_mode": {
    "name": "ipython",
    "version": 3
   },
   "file_extension": ".py",
   "mimetype": "text/x-python",
   "name": "python",
   "nbconvert_exporter": "python",
   "pygments_lexer": "ipython3",
   "version": "3.11.4"
  }
 },
 "nbformat": 4,
 "nbformat_minor": 5
}
